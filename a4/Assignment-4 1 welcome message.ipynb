{
 "cells": [
  {
   "cell_type": "code",
   "execution_count": 3,
   "id": "dc401847",
   "metadata": {},
   "outputs": [
    {
     "name": "stdout",
     "output_type": "stream",
     "text": [
      "Requirement already satisfied: flask in /opt/anaconda/lib/python3.9/site-packages (1.1.2)\n",
      "Requirement already satisfied: Jinja2>=2.10.1 in /opt/anaconda/lib/python3.9/site-packages (from flask) (2.11.3)\n",
      "Requirement already satisfied: itsdangerous>=0.24 in /opt/anaconda/lib/python3.9/site-packages (from flask) (2.0.1)\n",
      "Requirement already satisfied: click>=5.1 in /opt/anaconda/lib/python3.9/site-packages (from flask) (8.0.4)\n",
      "Requirement already satisfied: Werkzeug>=0.15 in /opt/anaconda/lib/python3.9/site-packages (from flask) (2.0.3)\n",
      "Requirement already satisfied: MarkupSafe>=0.23 in /opt/anaconda/lib/python3.9/site-packages (from Jinja2>=2.10.1->flask) (2.0.1)\n",
      "Note: you may need to restart the kernel to use updated packages.\n"
     ]
    }
   ],
   "source": [
    "pip install flask\n"
   ]
  },
  {
   "cell_type": "code",
   "execution_count": 1,
   "id": "f301088f",
   "metadata": {},
   "outputs": [
    {
     "name": "stdout",
     "output_type": "stream",
     "text": [
      " * Serving Flask app \"__main__\" (lazy loading)\n",
      " * Environment: production\n",
      "\u001b[31m   WARNING: This is a development server. Do not use it in a production deployment.\u001b[0m\n",
      "\u001b[2m   Use a production WSGI server instead.\u001b[0m\n",
      " * Debug mode: off\n"
     ]
    },
    {
     "name": "stderr",
     "output_type": "stream",
     "text": [
      " * Running on all addresses.\n",
      "   WARNING: This is a development server. Do not use it in a production deployment.\n",
      " * Running on http://192.168.101.167:5000/ (Press CTRL+C to quit)\n",
      "192.168.101.167 - - [08/Sep/2025 11:56:58] \"GET / HTTP/1.1\" 200 -\n",
      "192.168.101.167 - - [08/Sep/2025 12:03:09] \"GET / HTTP/1.1\" 200 -\n"
     ]
    }
   ],
   "source": [
    "from flask import Flask\n",
    "import threading\n",
    "\n",
    "app = Flask(__name__)\n",
    "\n",
    "@app.route('/')\n",
    "def home():\n",
    "    return \"Welcome to Nowrosjee Wadia College, Pune!\"\n",
    "\n",
    "def run_app():\n",
    "    app.run(host=\"0.0.0.0\", port=5000, debug=False, use_reloader=False)\n",
    "\n",
    "thread = threading.Thread(target=run_app)\n",
    "thread.start()\n"
   ]
  },
  {
   "cell_type": "code",
   "execution_count": null,
   "id": "234173d7",
   "metadata": {},
   "outputs": [],
   "source": [
    "import os, signal\n",
    "\n",
    "# Kill any process on port 5000\n",
    "!lsof -t -i:5000 | xargs -r kill -9\n"
   ]
  },
  {
   "cell_type": "code",
   "execution_count": 2,
   "id": "c1f0beb6",
   "metadata": {},
   "outputs": [],
   "source": []
  },
  {
   "cell_type": "code",
   "execution_count": null,
   "id": "9968f29a",
   "metadata": {},
   "outputs": [],
   "source": []
  }
 ],
 "metadata": {
  "kernelspec": {
   "display_name": "Python 3 (ipykernel)",
   "language": "python",
   "name": "python3"
  },
  "language_info": {
   "codemirror_mode": {
    "name": "ipython",
    "version": 3
   },
   "file_extension": ".py",
   "mimetype": "text/x-python",
   "name": "python",
   "nbconvert_exporter": "python",
   "pygments_lexer": "ipython3",
   "version": "3.9.12"
  }
 },
 "nbformat": 4,
 "nbformat_minor": 5
}
