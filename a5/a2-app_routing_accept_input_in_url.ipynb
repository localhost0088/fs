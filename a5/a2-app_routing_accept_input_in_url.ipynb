{
 "cells": [
  {
   "cell_type": "code",
   "execution_count": null,
   "id": "a909d385",
   "metadata": {},
   "outputs": [
    {
     "name": "stdout",
     "output_type": "stream",
     "text": [
      " * Serving Flask app \"__main__\" (lazy loading)\n",
      " * Environment: production\n",
      "\u001b[31m   WARNING: This is a development server. Do not use it in a production deployment.\u001b[0m\n",
      "\u001b[2m   Use a production WSGI server instead.\u001b[0m\n",
      " * Debug mode: off\n"
     ]
    },
    {
     "name": "stderr",
     "output_type": "stream",
     "text": [
      " * Running on all addresses.\n",
      "   WARNING: This is a development server. Do not use it in a production deployment.\n",
      " * Running on http://192.168.101.189:5002/ (Press CTRL+C to quit)\n",
      "192.168.101.189 - - [15/Sep/2025 12:45:28] \"GET / HTTP/1.1\" 200 -\n",
      "192.168.101.189 - - [15/Sep/2025 13:29:50] \"GET /square/7 HTTP/1.1\" 200 -\n",
      "192.168.101.189 - - [15/Sep/2025 13:29:54] \"GET / HTTP/1.1\" 200 -\n",
      "192.168.101.189 - - [15/Sep/2025 13:30:21] \"GET /hello/NWC HTTP/1.1\" 200 -\n",
      "192.168.101.189 - - [15/Sep/2025 14:24:27] \"GET / HTTP/1.1\" 200 -\n",
      "192.168.101.189 - - [15/Sep/2025 14:24:47] \"GET /hello/nwc HTTP/1.1\" 200 -\n"
     ]
    }
   ],
   "source": [
    "from flask import Flask, url_for\n",
    "\n",
    "app = Flask(__name__)\n",
    "\n",
    "# Home page\n",
    "@app.route('/')\n",
    "def home():\n",
    "    # Using url_for to build URLs dynamically\n",
    "    square_url = url_for('square', num=7)   # /square/7\n",
    "    hello_url = url_for('hello', name=\"Alex\")  # /hello/Alex\n",
    "    add_url = url_for('add', a=12, b=8)    # /add/12/8\n",
    "    \n",
    "    return f\"\"\"\n",
    "    <h2>Welcome to Flask Routing + URL Building Demo</h2>\n",
    "    <ul>\n",
    "        <li><a href=\"{square_url}\">Square of 7</a></li>\n",
    "        <li><a href=\"{hello_url}\">Say Hello to Alex</a></li>\n",
    "        <li><a href=\"{add_url}\">Add 12 + 8</a></li>\n",
    "    </ul>\n",
    "    \"\"\"\n",
    "\n",
    "# Route with integer input\n",
    "@app.route('/square/<int:num>')\n",
    "def square(num):\n",
    "    return f\"<h3>Square of {num} = {num*num}</h3>\"\n",
    "\n",
    "# Route with string input\n",
    "@app.route('/hello/<name>')\n",
    "def hello(name):\n",
    "    return f\"<h3>Hello, {name}!</h3>\"\n",
    "\n",
    "# Route with two numbers (addition)\n",
    "@app.route('/add/<int:a>/<int:b>')\n",
    "def add(a, b):\n",
    "    return f\"<h3>Sum of {a} and {b} = {a+b}</h3>\"\n",
    "\n",
    "# Run Flask app in Jupyter Notebook\n",
    "if __name__ == \"__main__\":\n",
    "    app.run(host=\"0.0.0.0\", port=5002, threaded=True)\n"
   ]
  },
  {
   "cell_type": "code",
   "execution_count": null,
   "id": "284f8e92",
   "metadata": {},
   "outputs": [],
   "source": []
  }
 ],
 "metadata": {
  "kernelspec": {
   "display_name": "Python 3 (ipykernel)",
   "language": "python",
   "name": "python3"
  },
  "language_info": {
   "codemirror_mode": {
    "name": "ipython",
    "version": 3
   },
   "file_extension": ".py",
   "mimetype": "text/x-python",
   "name": "python",
   "nbconvert_exporter": "python",
   "pygments_lexer": "ipython3",
   "version": "3.9.12"
  }
 },
 "nbformat": 4,
 "nbformat_minor": 5
}
